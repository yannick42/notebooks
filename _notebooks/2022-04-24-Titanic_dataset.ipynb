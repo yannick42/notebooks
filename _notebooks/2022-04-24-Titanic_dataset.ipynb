{
  "nbformat": 4,
  "nbformat_minor": 0,
  "metadata": {
    "colab": {
      "name": "[DRAFT] 2022-04-24-Titanic dataset",
      "provenance": [],
      "collapsed_sections": [],
      "include_colab_link": true
    },
    "kernelspec": {
      "name": "python3",
      "display_name": "Python 3"
    }
  },
  "cells": [
    {
      "cell_type": "markdown",
      "metadata": {
        "id": "view-in-github",
        "colab_type": "text"
      },
      "source": [
        "<a href=\"https://colab.research.google.com/github/yannick42/notebooks/blob/master/_notebooks/2022-04-24-Titanic_dataset.ipynb\" target=\"_parent\"><img src=\"https://colab.research.google.com/assets/colab-badge.svg\" alt=\"Open In Colab\"/></a>"
      ]
    },
    {
      "cell_type": "markdown",
      "source": [
        "# \"[DRAFT] Titanic dataset\"\n",
        "> \"Quick EDA/Plots & Machine Learning\"\n",
        "\n",
        "- toc: true\n",
        "- badges: false\n",
        "- comments: false\n",
        "- author: Yannick\n",
        "- categories: [EDA, ML]"
      ],
      "metadata": {
        "id": "F-q394lcOe5T"
      }
    },
    {
      "cell_type": "markdown",
      "source": [
        "# Setup"
      ],
      "metadata": {
        "id": "VOqq4jdpfS6t"
      }
    },
    {
      "cell_type": "code",
      "metadata": {
        "id": "rmRnLansQ_mT"
      },
      "source": [
        "%%capture\n",
        "!pip install kaggle --upgrade"
      ],
      "execution_count": 1,
      "outputs": []
    },
    {
      "cell_type": "code",
      "metadata": {
        "id": "WmVW-Tv6RLhN",
        "colab": {
          "base_uri": "https://localhost:8080/"
        },
        "outputId": "cabf0b49-49b0-4fe0-f7ed-402b0f031c03"
      },
      "source": [
        "%%capture\n",
        "import os\n",
        "from getpass import getpass\n",
        "kaggle_username = input(\"Kaggle USERNAME : \")\n",
        "os.environ['KAGGLE_USERNAME'] = kaggle_username\n",
        "kaggle_key = getpass(\"Kaggle KEY for \"+os.environ.get('KAGGLE_USERNAME')+\": \")\n",
        "os.environ[\"KAGGLE_KEY\"] = kaggle_key"
      ],
      "execution_count": 2,
      "outputs": [
        {
          "name": "stdout",
          "output_type": "stream",
          "text": [
            "Kaggle USERNAME : yannick42\n",
            "Kaggle KEY for yannick42: ··········\n"
          ]
        }
      ]
    },
    {
      "cell_type": "code",
      "source": [
        "!kaggle competitions download -c titanic -p my_data\n",
        "!cd my_data && unzip titanic.zip"
      ],
      "metadata": {
        "colab": {
          "base_uri": "https://localhost:8080/"
        },
        "id": "dk5EKDUmOped",
        "outputId": "2d892b63-22aa-4550-815f-991e9fee2414"
      },
      "execution_count": 3,
      "outputs": [
        {
          "output_type": "stream",
          "name": "stdout",
          "text": [
            "Downloading titanic.zip to my_data\n",
            "\r  0% 0.00/34.1k [00:00<?, ?B/s]\n",
            "\r100% 34.1k/34.1k [00:00<00:00, 17.4MB/s]\n",
            "Archive:  titanic.zip\n",
            "  inflating: gender_submission.csv   \n",
            "  inflating: test.csv                \n",
            "  inflating: train.csv               \n"
          ]
        }
      ]
    },
    {
      "cell_type": "code",
      "metadata": {
        "id": "M_x2DaGCRY6P"
      },
      "source": [
        "#hide\n",
        "# Search for another dataset ...\n",
        "# !kaggle datasets list -s sentiment"
      ],
      "execution_count": 4,
      "outputs": []
    },
    {
      "cell_type": "code",
      "metadata": {
        "id": "sVVl__1DST3m",
        "colab": {
          "base_uri": "https://localhost:8080/"
        },
        "outputId": "f4959bcb-42da-4dfc-bf9a-2892316d5100"
      },
      "source": [
        "# .kaggle\n",
        "# my_data\\gender_submission.csv\n",
        "# my_data\\test.csv\n",
        "# my_data\\train.csv\n",
        "!ls -la my_data"
      ],
      "execution_count": 5,
      "outputs": [
        {
          "output_type": "stream",
          "name": "stdout",
          "text": [
            "total 136\n",
            "drwxr-xr-x 2 root root  4096 Apr 26 17:59 .\n",
            "drwxr-xr-x 1 root root  4096 Apr 26 17:59 ..\n",
            "-rw-r--r-- 1 root root  3258 Dec 11  2019 gender_submission.csv\n",
            "-rw-r--r-- 1 root root 28629 Dec 11  2019 test.csv\n",
            "-rw-r--r-- 1 root root 34877 Apr 26 17:59 titanic.zip\n",
            "-rw-r--r-- 1 root root 61194 Dec 11  2019 train.csv\n"
          ]
        }
      ]
    },
    {
      "cell_type": "markdown",
      "source": [
        "# Load data + transformations"
      ],
      "metadata": {
        "id": "3dSgWaC1fWlD"
      }
    },
    {
      "cell_type": "code",
      "metadata": {
        "id": "EZN1rVUVSuj9"
      },
      "source": [
        "import pandas as pd\n",
        "\n",
        "# Pandas basics : https://pandas.pydata.org/pandas-docs/stable/getting_started/basics.html\n",
        "\n",
        "def feature_eng(df):\n",
        "  # Gender: str -> int\n",
        "  gender = {'male': 1, 'female': 2} \n",
        "  df['Sex'] = [gender[item] for item in df['Sex']] \n",
        "\n",
        "  # Fill missing values with mean\n",
        "  df['Age'].fillna((df['Age'].mean()), inplace=True)\n",
        "  df['Fare'].fillna((df['Fare'].mean()), inplace=True)\n",
        "\n",
        "  # see recommendations by https://triangleinequality.wordpress.com/2013/09/08/basic-feature-engineering-with-the-titanic-data/\n",
        "  df['Age*Class'] = df['Age'] * df['Pclass']\n",
        "  df['SibSp'].fillna(0, inplace=True) # Number of Siblings/Spouses Aboard\n",
        "  df['Parch'].fillna(0, inplace=True) # Number of Parents/Children Aboard\n",
        "  df['Family_Size'] = df['SibSp'] + df['Parch']\n",
        "  df['Fare_Per_Person'] = df['Fare']/(df['Family_Size']+1)\n",
        "\n",
        "  df.Embarked.fillna(0, inplace=True) # unknown embarkation place\n",
        "  embarked = {'S': 1, 'C': 2, 'Q': 3, 0: 0} # Southampton (UK, Apr 10th), Cherbourg (France, Apr 10th), Queenstown (\"Ireland\"..., Apr 11th)\n",
        "  df['Embarked'] = [embarked[item] for item in df['Embarked']]\n",
        "\n",
        "  return df\n",
        "\n",
        "###\n",
        "### TRAIN DATA (+Transformations)\n",
        "###\n",
        "df = pd.read_csv('my_data/train.csv')\n",
        "df = feature_eng(df)\n",
        "#df.describe()\n",
        "\n",
        "###\n",
        "### TEST DATA (+Transformations)\n",
        "###\n",
        "df_test = pd.read_csv('my_data/test.csv')\n",
        "df_test = feature_eng(df_test)\n",
        "#df_test.describe()"
      ],
      "execution_count": 6,
      "outputs": []
    },
    {
      "cell_type": "markdown",
      "source": [
        "# General informations"
      ],
      "metadata": {
        "id": "4cYiXGyBfdJc"
      }
    },
    {
      "cell_type": "markdown",
      "source": [
        "The Titanic departed from Southampton on April 10th, to Cherbourg, to Queenstown (the 11th). She sinked the 15th of April 1912"
      ],
      "metadata": {
        "id": "0SjQtTX6fgDD"
      }
    },
    {
      "cell_type": "code",
      "metadata": {
        "id": "L1j3kY-9T7Ya",
        "colab": {
          "base_uri": "https://localhost:8080/",
          "height": 457
        },
        "outputId": "545eee2c-36d9-49b8-bc05-ea74b42a667d"
      },
      "source": [
        "\n",
        "# the 13 youngest deads below 5 y.o. :(\n",
        "df[(df.Survived == 0) & (df.Age <= 5)].sort_values(by='Age')"
      ],
      "execution_count": 7,
      "outputs": [
        {
          "output_type": "execute_result",
          "data": {
            "text/plain": [
              "     PassengerId  Survived  Pclass                                     Name  \\\n",
              "164          165         0       3             Panula, Master. Eino Viljami   \n",
              "386          387         0       3          Goodwin, Master. Sidney Leonard   \n",
              "7              8         0       3           Palsson, Master. Gosta Leonard   \n",
              "16            17         0       3                     Rice, Master. Eugene   \n",
              "119          120         0       3        Andersson, Miss. Ellis Anna Maria   \n",
              "205          206         0       3               Strom, Miss. Telma Matilda   \n",
              "297          298         0       1             Allison, Miss. Helen Loraine   \n",
              "642          643         0       3            Skoog, Miss. Margit Elizabeth   \n",
              "824          825         0       3             Panula, Master. Urho Abraham   \n",
              "374          375         0       3               Palsson, Miss. Stina Viola   \n",
              "63            64         0       3                    Skoog, Master. Harald   \n",
              "171          172         0       3                     Rice, Master. Arthur   \n",
              "850          851         0       3  Andersson, Master. Sigvard Harald Elias   \n",
              "\n",
              "     Sex  Age  SibSp  Parch   Ticket      Fare    Cabin  Embarked  Age*Class  \\\n",
              "164    1  1.0      4      1  3101295   39.6875      NaN         1        3.0   \n",
              "386    1  1.0      5      2  CA 2144   46.9000      NaN         1        3.0   \n",
              "7      1  2.0      3      1   349909   21.0750      NaN         1        6.0   \n",
              "16     1  2.0      4      1   382652   29.1250      NaN         3        6.0   \n",
              "119    2  2.0      4      2   347082   31.2750      NaN         1        6.0   \n",
              "205    2  2.0      0      1   347054   10.4625       G6         1        6.0   \n",
              "297    2  2.0      1      2   113781  151.5500  C22 C26         1        2.0   \n",
              "642    2  2.0      3      2   347088   27.9000      NaN         1        6.0   \n",
              "824    1  2.0      4      1  3101295   39.6875      NaN         1        6.0   \n",
              "374    2  3.0      3      1   349909   21.0750      NaN         1        9.0   \n",
              "63     1  4.0      3      2   347088   27.9000      NaN         1       12.0   \n",
              "171    1  4.0      4      1   382652   29.1250      NaN         3       12.0   \n",
              "850    1  4.0      4      2   347082   31.2750      NaN         1       12.0   \n",
              "\n",
              "     Family_Size  Fare_Per_Person  \n",
              "164            5         6.614583  \n",
              "386            7         5.862500  \n",
              "7              4         4.215000  \n",
              "16             5         4.854167  \n",
              "119            6         4.467857  \n",
              "205            1         5.231250  \n",
              "297            3        37.887500  \n",
              "642            5         4.650000  \n",
              "824            5         6.614583  \n",
              "374            4         4.215000  \n",
              "63             5         4.650000  \n",
              "171            5         4.854167  \n",
              "850            6         4.467857  "
            ],
            "text/html": [
              "\n",
              "  <div id=\"df-ace4fbd8-38e1-40b0-aea4-0f4ef6fdcfa9\">\n",
              "    <div class=\"colab-df-container\">\n",
              "      <div>\n",
              "<style scoped>\n",
              "    .dataframe tbody tr th:only-of-type {\n",
              "        vertical-align: middle;\n",
              "    }\n",
              "\n",
              "    .dataframe tbody tr th {\n",
              "        vertical-align: top;\n",
              "    }\n",
              "\n",
              "    .dataframe thead th {\n",
              "        text-align: right;\n",
              "    }\n",
              "</style>\n",
              "<table border=\"1\" class=\"dataframe\">\n",
              "  <thead>\n",
              "    <tr style=\"text-align: right;\">\n",
              "      <th></th>\n",
              "      <th>PassengerId</th>\n",
              "      <th>Survived</th>\n",
              "      <th>Pclass</th>\n",
              "      <th>Name</th>\n",
              "      <th>Sex</th>\n",
              "      <th>Age</th>\n",
              "      <th>SibSp</th>\n",
              "      <th>Parch</th>\n",
              "      <th>Ticket</th>\n",
              "      <th>Fare</th>\n",
              "      <th>Cabin</th>\n",
              "      <th>Embarked</th>\n",
              "      <th>Age*Class</th>\n",
              "      <th>Family_Size</th>\n",
              "      <th>Fare_Per_Person</th>\n",
              "    </tr>\n",
              "  </thead>\n",
              "  <tbody>\n",
              "    <tr>\n",
              "      <th>164</th>\n",
              "      <td>165</td>\n",
              "      <td>0</td>\n",
              "      <td>3</td>\n",
              "      <td>Panula, Master. Eino Viljami</td>\n",
              "      <td>1</td>\n",
              "      <td>1.0</td>\n",
              "      <td>4</td>\n",
              "      <td>1</td>\n",
              "      <td>3101295</td>\n",
              "      <td>39.6875</td>\n",
              "      <td>NaN</td>\n",
              "      <td>1</td>\n",
              "      <td>3.0</td>\n",
              "      <td>5</td>\n",
              "      <td>6.614583</td>\n",
              "    </tr>\n",
              "    <tr>\n",
              "      <th>386</th>\n",
              "      <td>387</td>\n",
              "      <td>0</td>\n",
              "      <td>3</td>\n",
              "      <td>Goodwin, Master. Sidney Leonard</td>\n",
              "      <td>1</td>\n",
              "      <td>1.0</td>\n",
              "      <td>5</td>\n",
              "      <td>2</td>\n",
              "      <td>CA 2144</td>\n",
              "      <td>46.9000</td>\n",
              "      <td>NaN</td>\n",
              "      <td>1</td>\n",
              "      <td>3.0</td>\n",
              "      <td>7</td>\n",
              "      <td>5.862500</td>\n",
              "    </tr>\n",
              "    <tr>\n",
              "      <th>7</th>\n",
              "      <td>8</td>\n",
              "      <td>0</td>\n",
              "      <td>3</td>\n",
              "      <td>Palsson, Master. Gosta Leonard</td>\n",
              "      <td>1</td>\n",
              "      <td>2.0</td>\n",
              "      <td>3</td>\n",
              "      <td>1</td>\n",
              "      <td>349909</td>\n",
              "      <td>21.0750</td>\n",
              "      <td>NaN</td>\n",
              "      <td>1</td>\n",
              "      <td>6.0</td>\n",
              "      <td>4</td>\n",
              "      <td>4.215000</td>\n",
              "    </tr>\n",
              "    <tr>\n",
              "      <th>16</th>\n",
              "      <td>17</td>\n",
              "      <td>0</td>\n",
              "      <td>3</td>\n",
              "      <td>Rice, Master. Eugene</td>\n",
              "      <td>1</td>\n",
              "      <td>2.0</td>\n",
              "      <td>4</td>\n",
              "      <td>1</td>\n",
              "      <td>382652</td>\n",
              "      <td>29.1250</td>\n",
              "      <td>NaN</td>\n",
              "      <td>3</td>\n",
              "      <td>6.0</td>\n",
              "      <td>5</td>\n",
              "      <td>4.854167</td>\n",
              "    </tr>\n",
              "    <tr>\n",
              "      <th>119</th>\n",
              "      <td>120</td>\n",
              "      <td>0</td>\n",
              "      <td>3</td>\n",
              "      <td>Andersson, Miss. Ellis Anna Maria</td>\n",
              "      <td>2</td>\n",
              "      <td>2.0</td>\n",
              "      <td>4</td>\n",
              "      <td>2</td>\n",
              "      <td>347082</td>\n",
              "      <td>31.2750</td>\n",
              "      <td>NaN</td>\n",
              "      <td>1</td>\n",
              "      <td>6.0</td>\n",
              "      <td>6</td>\n",
              "      <td>4.467857</td>\n",
              "    </tr>\n",
              "    <tr>\n",
              "      <th>205</th>\n",
              "      <td>206</td>\n",
              "      <td>0</td>\n",
              "      <td>3</td>\n",
              "      <td>Strom, Miss. Telma Matilda</td>\n",
              "      <td>2</td>\n",
              "      <td>2.0</td>\n",
              "      <td>0</td>\n",
              "      <td>1</td>\n",
              "      <td>347054</td>\n",
              "      <td>10.4625</td>\n",
              "      <td>G6</td>\n",
              "      <td>1</td>\n",
              "      <td>6.0</td>\n",
              "      <td>1</td>\n",
              "      <td>5.231250</td>\n",
              "    </tr>\n",
              "    <tr>\n",
              "      <th>297</th>\n",
              "      <td>298</td>\n",
              "      <td>0</td>\n",
              "      <td>1</td>\n",
              "      <td>Allison, Miss. Helen Loraine</td>\n",
              "      <td>2</td>\n",
              "      <td>2.0</td>\n",
              "      <td>1</td>\n",
              "      <td>2</td>\n",
              "      <td>113781</td>\n",
              "      <td>151.5500</td>\n",
              "      <td>C22 C26</td>\n",
              "      <td>1</td>\n",
              "      <td>2.0</td>\n",
              "      <td>3</td>\n",
              "      <td>37.887500</td>\n",
              "    </tr>\n",
              "    <tr>\n",
              "      <th>642</th>\n",
              "      <td>643</td>\n",
              "      <td>0</td>\n",
              "      <td>3</td>\n",
              "      <td>Skoog, Miss. Margit Elizabeth</td>\n",
              "      <td>2</td>\n",
              "      <td>2.0</td>\n",
              "      <td>3</td>\n",
              "      <td>2</td>\n",
              "      <td>347088</td>\n",
              "      <td>27.9000</td>\n",
              "      <td>NaN</td>\n",
              "      <td>1</td>\n",
              "      <td>6.0</td>\n",
              "      <td>5</td>\n",
              "      <td>4.650000</td>\n",
              "    </tr>\n",
              "    <tr>\n",
              "      <th>824</th>\n",
              "      <td>825</td>\n",
              "      <td>0</td>\n",
              "      <td>3</td>\n",
              "      <td>Panula, Master. Urho Abraham</td>\n",
              "      <td>1</td>\n",
              "      <td>2.0</td>\n",
              "      <td>4</td>\n",
              "      <td>1</td>\n",
              "      <td>3101295</td>\n",
              "      <td>39.6875</td>\n",
              "      <td>NaN</td>\n",
              "      <td>1</td>\n",
              "      <td>6.0</td>\n",
              "      <td>5</td>\n",
              "      <td>6.614583</td>\n",
              "    </tr>\n",
              "    <tr>\n",
              "      <th>374</th>\n",
              "      <td>375</td>\n",
              "      <td>0</td>\n",
              "      <td>3</td>\n",
              "      <td>Palsson, Miss. Stina Viola</td>\n",
              "      <td>2</td>\n",
              "      <td>3.0</td>\n",
              "      <td>3</td>\n",
              "      <td>1</td>\n",
              "      <td>349909</td>\n",
              "      <td>21.0750</td>\n",
              "      <td>NaN</td>\n",
              "      <td>1</td>\n",
              "      <td>9.0</td>\n",
              "      <td>4</td>\n",
              "      <td>4.215000</td>\n",
              "    </tr>\n",
              "    <tr>\n",
              "      <th>63</th>\n",
              "      <td>64</td>\n",
              "      <td>0</td>\n",
              "      <td>3</td>\n",
              "      <td>Skoog, Master. Harald</td>\n",
              "      <td>1</td>\n",
              "      <td>4.0</td>\n",
              "      <td>3</td>\n",
              "      <td>2</td>\n",
              "      <td>347088</td>\n",
              "      <td>27.9000</td>\n",
              "      <td>NaN</td>\n",
              "      <td>1</td>\n",
              "      <td>12.0</td>\n",
              "      <td>5</td>\n",
              "      <td>4.650000</td>\n",
              "    </tr>\n",
              "    <tr>\n",
              "      <th>171</th>\n",
              "      <td>172</td>\n",
              "      <td>0</td>\n",
              "      <td>3</td>\n",
              "      <td>Rice, Master. Arthur</td>\n",
              "      <td>1</td>\n",
              "      <td>4.0</td>\n",
              "      <td>4</td>\n",
              "      <td>1</td>\n",
              "      <td>382652</td>\n",
              "      <td>29.1250</td>\n",
              "      <td>NaN</td>\n",
              "      <td>3</td>\n",
              "      <td>12.0</td>\n",
              "      <td>5</td>\n",
              "      <td>4.854167</td>\n",
              "    </tr>\n",
              "    <tr>\n",
              "      <th>850</th>\n",
              "      <td>851</td>\n",
              "      <td>0</td>\n",
              "      <td>3</td>\n",
              "      <td>Andersson, Master. Sigvard Harald Elias</td>\n",
              "      <td>1</td>\n",
              "      <td>4.0</td>\n",
              "      <td>4</td>\n",
              "      <td>2</td>\n",
              "      <td>347082</td>\n",
              "      <td>31.2750</td>\n",
              "      <td>NaN</td>\n",
              "      <td>1</td>\n",
              "      <td>12.0</td>\n",
              "      <td>6</td>\n",
              "      <td>4.467857</td>\n",
              "    </tr>\n",
              "  </tbody>\n",
              "</table>\n",
              "</div>\n",
              "      <button class=\"colab-df-convert\" onclick=\"convertToInteractive('df-ace4fbd8-38e1-40b0-aea4-0f4ef6fdcfa9')\"\n",
              "              title=\"Convert this dataframe to an interactive table.\"\n",
              "              style=\"display:none;\">\n",
              "        \n",
              "  <svg xmlns=\"http://www.w3.org/2000/svg\" height=\"24px\"viewBox=\"0 0 24 24\"\n",
              "       width=\"24px\">\n",
              "    <path d=\"M0 0h24v24H0V0z\" fill=\"none\"/>\n",
              "    <path d=\"M18.56 5.44l.94 2.06.94-2.06 2.06-.94-2.06-.94-.94-2.06-.94 2.06-2.06.94zm-11 1L8.5 8.5l.94-2.06 2.06-.94-2.06-.94L8.5 2.5l-.94 2.06-2.06.94zm10 10l.94 2.06.94-2.06 2.06-.94-2.06-.94-.94-2.06-.94 2.06-2.06.94z\"/><path d=\"M17.41 7.96l-1.37-1.37c-.4-.4-.92-.59-1.43-.59-.52 0-1.04.2-1.43.59L10.3 9.45l-7.72 7.72c-.78.78-.78 2.05 0 2.83L4 21.41c.39.39.9.59 1.41.59.51 0 1.02-.2 1.41-.59l7.78-7.78 2.81-2.81c.8-.78.8-2.07 0-2.86zM5.41 20L4 18.59l7.72-7.72 1.47 1.35L5.41 20z\"/>\n",
              "  </svg>\n",
              "      </button>\n",
              "      \n",
              "  <style>\n",
              "    .colab-df-container {\n",
              "      display:flex;\n",
              "      flex-wrap:wrap;\n",
              "      gap: 12px;\n",
              "    }\n",
              "\n",
              "    .colab-df-convert {\n",
              "      background-color: #E8F0FE;\n",
              "      border: none;\n",
              "      border-radius: 50%;\n",
              "      cursor: pointer;\n",
              "      display: none;\n",
              "      fill: #1967D2;\n",
              "      height: 32px;\n",
              "      padding: 0 0 0 0;\n",
              "      width: 32px;\n",
              "    }\n",
              "\n",
              "    .colab-df-convert:hover {\n",
              "      background-color: #E2EBFA;\n",
              "      box-shadow: 0px 1px 2px rgba(60, 64, 67, 0.3), 0px 1px 3px 1px rgba(60, 64, 67, 0.15);\n",
              "      fill: #174EA6;\n",
              "    }\n",
              "\n",
              "    [theme=dark] .colab-df-convert {\n",
              "      background-color: #3B4455;\n",
              "      fill: #D2E3FC;\n",
              "    }\n",
              "\n",
              "    [theme=dark] .colab-df-convert:hover {\n",
              "      background-color: #434B5C;\n",
              "      box-shadow: 0px 1px 3px 1px rgba(0, 0, 0, 0.15);\n",
              "      filter: drop-shadow(0px 1px 2px rgba(0, 0, 0, 0.3));\n",
              "      fill: #FFFFFF;\n",
              "    }\n",
              "  </style>\n",
              "\n",
              "      <script>\n",
              "        const buttonEl =\n",
              "          document.querySelector('#df-ace4fbd8-38e1-40b0-aea4-0f4ef6fdcfa9 button.colab-df-convert');\n",
              "        buttonEl.style.display =\n",
              "          google.colab.kernel.accessAllowed ? 'block' : 'none';\n",
              "\n",
              "        async function convertToInteractive(key) {\n",
              "          const element = document.querySelector('#df-ace4fbd8-38e1-40b0-aea4-0f4ef6fdcfa9');\n",
              "          const dataTable =\n",
              "            await google.colab.kernel.invokeFunction('convertToInteractive',\n",
              "                                                     [key], {});\n",
              "          if (!dataTable) return;\n",
              "\n",
              "          const docLinkHtml = 'Like what you see? Visit the ' +\n",
              "            '<a target=\"_blank\" href=https://colab.research.google.com/notebooks/data_table.ipynb>data table notebook</a>'\n",
              "            + ' to learn more about interactive tables.';\n",
              "          element.innerHTML = '';\n",
              "          dataTable['output_type'] = 'display_data';\n",
              "          await google.colab.output.renderOutput(dataTable, element);\n",
              "          const docLink = document.createElement('div');\n",
              "          docLink.innerHTML = docLinkHtml;\n",
              "          element.appendChild(docLink);\n",
              "        }\n",
              "      </script>\n",
              "    </div>\n",
              "  </div>\n",
              "  "
            ]
          },
          "metadata": {},
          "execution_count": 7
        }
      ]
    },
    {
      "cell_type": "markdown",
      "source": [
        "# Pie Charts"
      ],
      "metadata": {
        "id": "Qa_R2d5tbCJa"
      }
    },
    {
      "cell_type": "code",
      "source": [
        "#collapse-hide\n",
        "\n",
        "import numpy as np\n",
        "import matplotlib.pyplot as plt\n",
        "from matplotlib.colors import LinearSegmentedColormap\n",
        "\n",
        "row = 2\n",
        "col = 3\n",
        "\n",
        "fig, ax = plt.subplots(row, col, figsize=(20,8))\n",
        "\n",
        "list_columns = ['Pclass', 'Survived', 'Embarked', 'Family_Size', 'Sex', None]\n",
        "\n",
        "# to generate a gradient of colors\n",
        "colors = [(.5, 0, 0), (1, 0, 1)] # from first color to the last\n",
        "cm = LinearSegmentedColormap.from_list(\"Custom\", colors, N=11) # 11 shades\n",
        "\n",
        "colors = [\n",
        "  ['yellow', 'orange', 'red'],\n",
        "  ['grey', 'lightblue'],\n",
        "  ['black', 'green', 'lightgreen', 'cyan'],\n",
        "  cm(np.linspace(0, 1, num=11)), # equally \"spaced\" 11 colors...\n",
        "  ['blue', 'pink'],\n",
        "]\n",
        "\n",
        "i = 0\n",
        "for column in list_columns:\n",
        "\n",
        "  axis = ax[i//col][i%(row+1)]\n",
        "  if column is None:\n",
        "    axis.axis('off') # hide\n",
        "  else:\n",
        "    s = df.groupby([column]).size().to_frame('size').reset_index()\n",
        "    \n",
        "    axis.set_title(column)\n",
        "    # plot pie chart\n",
        "    patches, texts = axis.pie(s['size'], colors=colors[i], startangle=90)\n",
        "    # add a legend\n",
        "    axis.legend(patches, s[column].unique(), loc=\"best\")\n",
        "  i=i+1\n",
        "\n",
        "plt.tight_layout()"
      ],
      "metadata": {
        "colab": {
          "base_uri": "https://localhost:8080/",
          "height": 585
        },
        "id": "qpQNiMLDRAIu",
        "outputId": "dd96c584-c051-4781-c040-82c78c77bfd6"
      },
      "execution_count": 10,
      "outputs": [
        {
          "output_type": "display_data",
          "data": {
            "text/plain": [
              "<Figure size 1440x576 with 6 Axes>"
            ],
            "image/png": "[encoded data removed]"
          },
          "metadata": {
            "needs_background": "light"
          }
        }
      ]
    },
    {
      "cell_type": "markdown",
      "source": [
        "# Scatterplot"
      ],
      "metadata": {
        "id": "Qa6mlqjIGK2p"
      }
    },
    {
      "cell_type": "markdown",
      "source": [
        "4 numerical variables in one scatterplot : x=Age / y=Fare / color=Pclass : Survived or not"
      ],
      "metadata": {
        "id": "00L7RuGwF6gq"
      }
    },
    {
      "cell_type": "code",
      "source": [
        "#collapse-hide\n",
        "\n",
        "from matplotlib.pyplot import figure\n",
        "import seaborn as sns\n",
        "\n",
        "figure(figsize=(12, 8), dpi=80)\n",
        "\n",
        "markers = {0: \"X\", 1: \"o\"}\n",
        "sns.scatterplot(\n",
        "    data=df,\n",
        "    x=\"Age\",\n",
        "    y=\"Fare\",\n",
        "    hue=\"Pclass\",\n",
        "    palette=['green','blue','grey'],\n",
        "    style=\"Survived\",\n",
        "    size=\"Survived\",\n",
        "    sizes=(15, 65),\n",
        "    markers=markers\n",
        ");\n"
      ],
      "metadata": {
        "colab": {
          "base_uri": "https://localhost:8080/",
          "height": 566
        },
        "id": "GyllR_1GB8KH",
        "outputId": "27436d77-d10b-4c06-99dd-5302608441f7"
      },
      "execution_count": 40,
      "outputs": [
        {
          "output_type": "execute_result",
          "data": {
            "text/plain": [
              "<matplotlib.axes._subplots.AxesSubplot at 0x7fc01a4aa250>"
            ]
          },
          "metadata": {},
          "execution_count": 40
        },
        {
          "output_type": "display_data",
          "data": {
            "text/plain": [
              "<Figure size 960x640 with 1 Axes>"
            ],
            "image/png": "[encoded data removed]"
          },
          "metadata": {
            "needs_background": "light"
          }
        }
      ]
    },
    {
      "cell_type": "code",
      "source": [
        "fig, ax = plt.subplots(1, 2, figsize=(16,8))\n",
        "\n",
        "sns.histplot(ax=ax[0], data=df, x=\"Age\", kde=True);\n",
        "sns.kdeplot(ax=ax[1], data=df, x=\"Age\", y=\"Fare\", fill=True)"
      ],
      "metadata": {
        "colab": {
          "base_uri": "https://localhost:8080/",
          "height": 517
        },
        "id": "ZhlsFrBwGg1y",
        "outputId": "17795c9e-98c4-4ea7-a1ce-288cd88c9a39"
      },
      "execution_count": 52,
      "outputs": [
        {
          "output_type": "execute_result",
          "data": {
            "text/plain": [
              "<matplotlib.axes._subplots.AxesSubplot at 0x7fc0173b1610>"
            ]
          },
          "metadata": {},
          "execution_count": 52
        },
        {
          "output_type": "display_data",
          "data": {
            "text/plain": [
              "<Figure size 1152x576 with 2 Axes>"
            ],
            "image/png": "[encoded data removed]"
          },
          "metadata": {
            "needs_background": "light"
          }
        }
      ]
    },
    {
      "cell_type": "code",
      "metadata": {
        "id": "v9kq6SVjKA_m"
      },
      "source": [
        "#hide\n",
        "\n",
        "%matplotlib inline\n",
        "\n",
        "choose = \"XGB\"  # Ridge\n",
        "\n",
        "# MODELS\n",
        "import xgboost as xgb\n",
        "from sklearn.linear_model import Ridge\n",
        "\n",
        "import numpy as np\n",
        "import matplotlib.pyplot as plt\n",
        "import seaborn as sns\n",
        "\n",
        "# to find hyperparameters\n",
        "from sklearn.metrics import confusion_matrix\n",
        "from sklearn.model_selection import GridSearchCV\n",
        "\n",
        "nb_split = 8\n",
        "\n",
        "X = df.loc[:, ['Pclass', 'Sex', 'Fare', 'Age*Class', 'Family_Size', 'Fare_Per_Person']]\n",
        "y = df['Survived']\n",
        "\n",
        "\n",
        "# ==> DataConversionWarning: A column-vector y was passed when a 1d array was expected. Please change the shape of y to (n_samples, ), for example using ravel().\n",
        "splited = np.array_split(X, nb_split)\n",
        "X_validation_test = pd.DataFrame(splited[0])\n",
        "X = pd.DataFrame(np.concatenate(splited[1:]))\n",
        "\n",
        "ysplited = np.array_split(y, nb_split)\n",
        "y_validation_test = pd.DataFrame(ysplited[0])\n",
        "y = pd.DataFrame(np.concatenate(ysplited[1:]))\n",
        "\n",
        "\n",
        "\n",
        "\n",
        "\n",
        "\n",
        "# X_validation_set = df_test.loc[:, ['Pclass', 'Sex', 'Fare', 'Age*Class', 'Family_Size', 'Fare_Per_Person']]\n",
        "# dtrain = xgb.DMatrix(X.to_numpy(), y.to_numpy())\n",
        "# dtest = xgb.DMatrix(X_validation_set.to_numpy())\n",
        "# specify parameters via map\n",
        "# param = {'max_depth':6, 'eta':1, 'objective':'binary:logistic' }\n",
        "# num_round = 6\n",
        "# bst = xgb.train(param, dtrain, num_round)\n",
        "\n",
        "if choose == \"XGB\":\n",
        "\n",
        "  # About log loss : https://medium.datadriveninvestor.com/understanding-the-log-loss-function-of-xgboost-8842e99d975d\n",
        "  xgb_model = xgb.XGBClassifier(eval_metric=\"logloss\")\n",
        "\n",
        "  # best found : {'learning_rate': 0.01, 'max_depth': 6, 'n_estimators': 100}\n",
        "  optimization_dict = {\n",
        "    'max_depth': [6], #[4, 6, 8],\n",
        "    'n_estimators': [100], #[50, 100, 200],\n",
        "    'learning_rate': [0.01], #[0.001, 0.01, 0.1]\n",
        "  }\n",
        "  model = GridSearchCV(xgb_model, optimization_dict, scoring='accuracy', verbose=1)\n",
        "\n",
        "elif choose == \"Ridge\":\n",
        "\n",
        "  ridge_model = Ridge()\n",
        "  # best found : {'alpha': ?}\n",
        "  optimization_dict = {\n",
        "    'alpha': [0.001, 0.01, 0.1]\n",
        "  }\n",
        "  model = GridSearchCV(ridge_model, optimization_dict, scoring='accuracy', verbose=1)\n",
        "\n",
        "\n",
        "\n",
        "print(\"X (shape) : \", X.shape)\n",
        "print(\"y (shape) : \", y.shape)\n",
        "model.fit(X.to_numpy(), y.to_numpy().ravel())\n",
        "\n",
        "# Results\n",
        "print(\"Best score :\", model.best_score_) # Mean cross-validated score of the best_estimator\n",
        "#print(model.best_params_)\n",
        "bst = model.best_estimator_\n",
        "\n",
        "# make prediction\n",
        "preds = model.predict(X_validation_test.to_numpy())\n",
        "\n",
        "#print(\"X_validation_test.shape\", X_validation_test.shape)\n",
        "print(\"112 predictions\") # :\", preds)\n",
        "#print(\"y_validation_test.shape\", y_validation_test.shape)\n",
        "\n",
        "\n",
        "#indices = preds.argmax(axis=1)\n",
        "\n",
        "# flatten() -> ?\n",
        "data = y_validation_test.Survived\n",
        "#preds = preds.reshape(1, -1)\n",
        "#print(\"y_validation_test.Survived.to_numpy().flatten()\", data)\n",
        "\n",
        "#print(\"data.shape\", data.shape)\n",
        "#print(\"preds.shape\", preds.shape)\n",
        "#print(\"data\", data)\n",
        "#print(\"indices\", indices)\n",
        "\n",
        "#\n",
        "# Confusion Matrix\n",
        "#\n",
        "cm = confusion_matrix(data, preds)\n",
        "#print(cm)\n",
        "sns.heatmap(cm, annot=True, fmt='3.0f', cmap=\"summer\", xticklabels=[\"Deceased\", \"Survived\"], yticklabels=[\"Deceased\", \"Survived\"])\n",
        "plt.title('Confusion matrix of ' + choose, y=1.05, size=15)\n",
        "\n",
        "#xgb.plot_importance(model.best_estimator_)\n",
        "\n",
        "plt.show()"
      ],
      "execution_count": null,
      "outputs": []
    },
    {
      "cell_type": "code",
      "metadata": {
        "id": "UEePlWYJR7_r"
      },
      "source": [
        "#hide\n",
        "\n",
        "# 'SibSp', 'Parch', \n",
        "#X_validation_set = df_test.loc[:, ['Pclass', 'Sex', 'Fare', 'Age*Class', 'Family_Size', 'Fare_Per_Person']]\n",
        "#X_validation_set.describe()\n",
        "\n",
        "# True => il y a un \"NaN\" dans les données\n",
        "#print(np.any(np.isnan(X_validation_set)))\n",
        "\n",
        "preds = bst.predict(df_test.loc[:, ['Pclass', 'Sex', 'Fare', 'Age*Class', 'Family_Size', 'Fare_Per_Person']].to_numpy())\n",
        "\n",
        "submission = pd.DataFrame()\n",
        "submission['PassengerId'] = df_test['PassengerId']\n",
        "print(preds)\n",
        "submission['Survived'] = pd.DataFrame([round(value) for value in preds], dtype=int)\n",
        "print(submission.shape)\n",
        "\n",
        "submission.to_csv('titanic_submission.csv', index=False)"
      ],
      "execution_count": null,
      "outputs": []
    },
    {
      "cell_type": "code",
      "metadata": {
        "id": "7SQFANZYUMzr"
      },
      "source": [
        "#hide\n",
        "\n",
        "import numpy as np\n",
        "import matplotlib.pyplot as plt\n",
        "from random import randrange \n",
        "import seaborn as sns\n",
        "%matplotlib inline\n",
        "\n",
        "from sklearn.metrics import confusion_matrix\n",
        "from sklearn.metrics import accuracy_score  #for accuracy_score\n",
        "\n",
        "from sklearn.model_selection import KFold\n",
        "\n",
        "from sklearn.linear_model import Ridge\n",
        "from sklearn.svm import SVC\n",
        "\n",
        "from sklearn.ensemble import RandomForestClassifier, AdaBoostClassifier\n",
        "from sklearn.tree import DecisionTreeClassifier\n",
        "\n",
        "names = [\n",
        "  \"Decision Tree\",\n",
        "  \"Ridge Regression\", # Linear least squares with l2 regularization\n",
        "  \"Random Forest\",\n",
        "  \"AdaBoost\",\n",
        "  \"Linear SVM\",\n",
        "  \"RBF SVM\"\n",
        "]\n",
        "classifiers = [\n",
        "  DecisionTreeClassifier(max_depth=5), # => Does not accept 'str' types\n",
        "  Ridge(alpha=1.0),\n",
        "  RandomForestClassifier(max_depth=7, n_estimators=8, max_features=6, criterion=\"gini\"),\n",
        "  AdaBoostClassifier(),\n",
        "  SVC(kernel=\"linear\", C=0.025),\n",
        "  SVC(gamma=2, C=1)\n",
        "]\n",
        "\n",
        "# https://fr.wikipedia.org/wiki/Validation_crois%C3%A9e\n",
        "# See also : StratifiedKFold, GroupKFold, RepeatedKFold\n",
        "kf = KFold(n_splits=4)\n",
        "\n",
        "# , 'SibSp', 'Parch', 'Embarked', 'Age'\n",
        "X = df.loc[:, ['Pclass', 'Sex', 'Fare', 'Age*Class', 'Family_Size', 'Fare_Per_Person']]\n",
        "y = df['Survived']\n",
        "\n",
        "nb_split = 8\n",
        "random_int = randrange(8)\n",
        "\n",
        "\"\"\"\n",
        "https://www.kaggle.com/vinothan/titanic-model-with-90-accuracy\n",
        "https://towardsdatascience.com/how-i-got-98-prediction-accuracy-with-kaggles-titanic-competition-ad24afed01fc ??????\n",
        "\"\"\"\n",
        "\n",
        "splited = np.array_split(X, nb_split)\n",
        "X_validation_test = pd.DataFrame(splited[0])\n",
        "X = pd.DataFrame(np.concatenate(splited[1:]))\n",
        "\n",
        "ysplited = np.array_split(y, nb_split)\n",
        "y_validation_test = pd.DataFrame(ysplited[0])\n",
        "y = pd.DataFrame(np.concatenate(ysplited[1:]))\n",
        "\n",
        "\"\"\"\n",
        "=> ne marche pas !\n",
        "splited = np.array_split(X, nb_split)\n",
        "X_validation_test = pd.DataFrame(splited[random_int])\n",
        "splited = np.delete(splited, random_int, 1)\n",
        "X = pd.DataFrame(np.concatenate(splited))\n",
        "\n",
        "ysplited = np.array_split(y, nb_split)\n",
        "y_validation_test = pd.DataFrame(ysplited[random_int])\n",
        "ysplited = np.delete(ysplited, random_int)\n",
        "y = pd.DataFrame(np.concatenate(ysplited))\n",
        "\"\"\"\n",
        "\n",
        "\"\"\"\n",
        "=> ne marche pas !\n",
        "X_validation_test = X.sample(frac=100/8)\n",
        "X = X.loc[~X.index.isin(X_validation_test.index)]\n",
        "\n",
        "y_validation_test = y.loc[y.index.isin(X_validation_test.index)]\n",
        "y = y.loc[~y.index.isin(X_validation_test.index)]\n",
        "\"\"\"\n",
        "\n",
        "##\n",
        "## MAIN Loop over each classifiers\n",
        "##\n",
        "for name, clf in zip(names, classifiers):\n",
        "  print('Classifier name :', name)\n",
        "  for train_index, test_index in kf.split(X):\n",
        "    clf.fit(X.iloc[train_index], y.iloc[train_index])\n",
        "    score = clf.score(X.iloc[test_index], y.iloc[test_index]) # Accuracy\n",
        "    print(\"Accuracy:\", score)\n",
        "  \n",
        "  y_pred = clf.predict(X_validation_test.to_numpy())\n",
        "\n",
        "  #accuracy = accuracy_score(y_pred, y_validation_test.to_numpy()) * 100\n",
        "  #print('The accuracy of '+name+' is', round(accuracy, 2))\n",
        "\n",
        "  y_test = y_validation_test.Survived.to_numpy()\n",
        "  y_prediction = y_pred.flatten()\n",
        "  y_prediction[y_prediction > 0.5] = 1\n",
        "  y_prediction[y_prediction <= 0.5] = 0\n",
        "  \n",
        "  # ValueError: Classification metrics can't handle a mix of binary and continuous targets\n",
        "  cm = confusion_matrix(y_test, y_prediction)\n",
        "\n",
        "  sns.heatmap(cm, annot=True, fmt='3.0f', cmap=\"summer\")\n",
        "  plt.title('Confusion matrix of ' + name, y=1.05, size=15)\n",
        "  plt.show()\n"
      ],
      "execution_count": null,
      "outputs": []
    },
    {
      "cell_type": "code",
      "metadata": {
        "id": "BdcLyislyTPn"
      },
      "source": [
        "#hide\n",
        "\n",
        "# 'SibSp', 'Parch', \n",
        "X_validation_set = df_test.loc[:, ['Pclass', 'Sex', 'Fare', 'Age*Class', 'Family_Size', 'Fare_Per_Person']]\n",
        "#X_validation_set.describe()\n",
        "\n",
        "# True => il y a un \"NaN\" dans les données\n",
        "#print(np.any(np.isnan(X_validation_set)))\n",
        "\n",
        "#values = classifiers[names.index(\"Ridge Regression\")].predict(X_validation_set)\n",
        "values = classifiers[names.index(\"Random Forest\")].predict(X_validation_set)\n",
        "\n",
        "values[values > 0.5] = 1\n",
        "values[values <= 0.5] = 0\n",
        "\n",
        "submission = pd.DataFrame()\n",
        "submission['PassengerId'] = df_test['PassengerId']\n",
        "submission['Survived'] = values.astype(int)\n",
        "print(submission.shape)\n",
        "\n",
        "submission.to_csv('titanic_submission.csv', index=False)\n"
      ],
      "execution_count": null,
      "outputs": []
    },
    {
      "cell_type": "code",
      "metadata": {
        "id": "tvP999qmubxk"
      },
      "source": [
        "#hide\n",
        "\n",
        "!cat titanic_submission.csv"
      ],
      "execution_count": null,
      "outputs": []
    },
    {
      "cell_type": "code",
      "metadata": {
        "id": "ybyZ7v31Xa1v"
      },
      "source": [
        "#hide\n",
        "\n",
        "!kaggle competitions submit -c titanic -f titanic_submission.csv -m \"Titanic dataset - XGBoost (test)\""
      ],
      "execution_count": null,
      "outputs": []
    }
  ]
}